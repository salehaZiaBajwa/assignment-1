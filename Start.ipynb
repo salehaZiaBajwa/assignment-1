{
  "nbformat": 4,
  "nbformat_minor": 0,
  "metadata": {
    "colab": {
      "provenance": [],
      "authorship_tag": "ABX9TyNbGF/tYrJXQi0b1ZfYqdEo",
      "include_colab_link": true
    },
    "kernelspec": {
      "name": "python3",
      "display_name": "Python 3"
    },
    "language_info": {
      "name": "python"
    }
  },
  "cells": [
    {
      "cell_type": "markdown",
      "metadata": {
        "id": "view-in-github",
        "colab_type": "text"
      },
      "source": [
        "<a href=\"https://colab.research.google.com/github/salehaZiaBajwa/assignment-1/blob/main/Start.ipynb\" target=\"_parent\"><img src=\"https://colab.research.google.com/assets/colab-badge.svg\" alt=\"Open In Colab\"/></a>"
      ]
    },
    {
      "cell_type": "code",
      "execution_count": null,
      "metadata": {
        "colab": {
          "base_uri": "https://localhost:8080/"
        },
        "id": "ceD-HPNfPEmr",
        "outputId": "2ea7397b-f8f0-4b07-f7fc-1077807aa79a"
      },
      "outputs": [
        {
          "output_type": "stream",
          "name": "stdout",
          "text": [
            "Pakistan Zindabad\n"
          ]
        }
      ],
      "source": [
        "print(\"Pakistan Zindabad\")"
      ]
    },
    {
      "cell_type": "markdown",
      "source": [
        "# Saleha Bajwa\n",
        "## Saliha\n",
        "### Saliha  \n",
        "**Saliha**\n",
        "\n",
        "*Saliha*\n"
      ],
      "metadata": {
        "id": "f2Z8H6mpa_LR"
      }
    },
    {
      "cell_type": "code",
      "source": [
        "bin(65)"
      ],
      "metadata": {
        "id": "lkoCr2fXvXh_",
        "colab": {
          "base_uri": "https://localhost:8080/",
          "height": 35
        },
        "outputId": "49c48727-73dc-441d-9470-dcd99692c8ab"
      },
      "execution_count": 5,
      "outputs": [
        {
          "output_type": "execute_result",
          "data": {
            "text/plain": [
              "'0b1000001'"
            ],
            "application/vnd.google.colaboratory.intrinsic+json": {
              "type": "string"
            }
          },
          "metadata": {},
          "execution_count": 5
        }
      ]
    },
    {
      "cell_type": "code",
      "source": [
        "print(\"Pakistan Zindabad\")"
      ],
      "metadata": {
        "colab": {
          "base_uri": "https://localhost:8080/"
        },
        "id": "fRqBw8x--BjL",
        "outputId": "2b2bb835-a40b-4584-c94d-b044552a08d8"
      },
      "execution_count": 6,
      "outputs": [
        {
          "output_type": "stream",
          "name": "stdout",
          "text": [
            "Pakistan Zindabad\n"
          ]
        }
      ]
    },
    {
      "cell_type": "code",
      "source": [
        "print(\"saleha\")"
      ],
      "metadata": {
        "colab": {
          "base_uri": "https://localhost:8080/"
        },
        "id": "1qfJavilBoeI",
        "outputId": "66a01070-890b-46b7-87c2-93e5cdd4202d"
      },
      "execution_count": 7,
      "outputs": [
        {
          "output_type": "stream",
          "name": "stdout",
          "text": [
            "saleha\n"
          ]
        }
      ]
    },
    {
      "cell_type": "code",
      "source": [
        "print(type(\"saliha\"))"
      ],
      "metadata": {
        "colab": {
          "base_uri": "https://localhost:8080/"
        },
        "id": "HhLKsQqiBsBE",
        "outputId": "38b86e41-2f70-4759-bc1c-cbccb4d42281"
      },
      "execution_count": 8,
      "outputs": [
        {
          "output_type": "stream",
          "name": "stdout",
          "text": [
            "<class 'str'>\n"
          ]
        }
      ]
    },
    {
      "cell_type": "code",
      "source": [
        "\"PakiStan ZindabaDD\".capitalize()"
      ],
      "metadata": {
        "colab": {
          "base_uri": "https://localhost:8080/",
          "height": 35
        },
        "id": "rbs70dv0DiWi",
        "outputId": "7e612565-7379-4ff9-f9ff-6f72795aaac2"
      },
      "execution_count": 9,
      "outputs": [
        {
          "output_type": "execute_result",
          "data": {
            "text/plain": [
              "'Pakistan zindabadd'"
            ],
            "application/vnd.google.colaboratory.intrinsic+json": {
              "type": "string"
            }
          },
          "metadata": {},
          "execution_count": 9
        }
      ]
    },
    {
      "cell_type": "code",
      "source": [
        "student_name : str = \"M.Qasim\"\n",
        "print(student_name)"
      ],
      "metadata": {
        "colab": {
          "base_uri": "https://localhost:8080/"
        },
        "id": "alTJjvurG1mO",
        "outputId": "edb5a01b-e9f5-4445-d72b-be2cf8ea9ed3"
      },
      "execution_count": 10,
      "outputs": [
        {
          "output_type": "stream",
          "name": "stdout",
          "text": [
            "M.Qasim\n"
          ]
        }
      ]
    },
    {
      "cell_type": "code",
      "source": [
        "student1_name : str = \"Saleha\"\n",
        "father_name : str = \"Bajwa\"\n",
        "age         : int = 20\n",
        "contact_number : int = +923367941417\n",
        "is_Pakistani : bool = True"
      ],
      "metadata": {
        "id": "xMsdBGyaIElD"
      },
      "execution_count": 11,
      "outputs": []
    },
    {
      "cell_type": "code",
      "source": [
        "print(student1_name, father_name, age, contact_number, is_Pakistani)"
      ],
      "metadata": {
        "colab": {
          "base_uri": "https://localhost:8080/"
        },
        "id": "YTVXCgmdIudP",
        "outputId": "d6b4b5fc-f6d0-4058-d05a-19f41e06b712"
      },
      "execution_count": 12,
      "outputs": [
        {
          "output_type": "stream",
          "name": "stdout",
          "text": [
            "Saleha Bajwa 20 923367941417 True\n"
          ]
        }
      ]
    },
    {
      "cell_type": "code",
      "source": [
        "print(student1_name)\n",
        "print(father_name)\n",
        "print(age)\n",
        "print(contact_number)\n",
        "print(is_Pakistani)"
      ],
      "metadata": {
        "colab": {
          "base_uri": "https://localhost:8080/"
        },
        "id": "gDoKET4kKS_A",
        "outputId": "50aba39c-211c-4786-f577-02ee0b428fd6"
      },
      "execution_count": 13,
      "outputs": [
        {
          "output_type": "stream",
          "name": "stdout",
          "text": [
            "Saleha\n",
            "Bajwa\n",
            "20\n",
            "923367941417\n",
            "True\n"
          ]
        }
      ]
    },
    {
      "cell_type": "code",
      "source": [
        "name : list = [ \"Qasim\", \"Rehan\", \"Zia Khan\"]\n",
        "print(name)"
      ],
      "metadata": {
        "colab": {
          "base_uri": "https://localhost:8080/"
        },
        "id": "g8E-aA1HLnRJ",
        "outputId": "f5bc9ce6-ce59-4111-8565-b652ddda78fb"
      },
      "execution_count": 14,
      "outputs": [
        {
          "output_type": "stream",
          "name": "stdout",
          "text": [
            "['Qasim', 'Rehan', 'Zia Khan']\n"
          ]
        }
      ]
    },
    {
      "cell_type": "code",
      "source": [
        "name : str = \"M.Qasim\"\n",
        "father_name : str = \"M.Aslam\"\n",
        "age : int = 30\n",
        "\n",
        "student_card : str = \"Panaversity Student Card\\nStudent Name\" + name +\"\\nfather's name \" + father_name\n",
        "\n",
        "print(student_card)"
      ],
      "metadata": {
        "id": "brWVyLRgMISi",
        "colab": {
          "base_uri": "https://localhost:8080/"
        },
        "outputId": "28a7d711-20ce-498d-c7a4-46b5cafa439d"
      },
      "execution_count": 15,
      "outputs": [
        {
          "output_type": "stream",
          "name": "stdout",
          "text": [
            "Panaversity Student Card\n",
            "Student NameM.Qasim\n",
            "father's name M.Aslam\n"
          ]
        }
      ]
    },
    {
      "cell_type": "code",
      "source": [],
      "metadata": {
        "id": "L4Rc5ia4nOn2"
      },
      "execution_count": 15,
      "outputs": []
    }
  ]
}